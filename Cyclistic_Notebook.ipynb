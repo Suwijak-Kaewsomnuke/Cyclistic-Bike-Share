{
 "cells": [
  {
   "attachments": {},
   "cell_type": "markdown",
   "metadata": {},
   "source": [
    "# Importing libraries"
   ]
  },
  {
   "cell_type": "code",
   "execution_count": 171,
   "metadata": {},
   "outputs": [],
   "source": [
    "import pandas as pd\n",
    "import numpy as np\n",
    "import seaborn as sns\n",
    "import datetime \n",
    "import matplotlib.pyplot as plt\n",
    "from pandas.api.types import CategoricalDtype"
   ]
  },
  {
   "attachments": {},
   "cell_type": "markdown",
   "metadata": {},
   "source": [
    "# Import Datasets"
   ]
  },
  {
   "cell_type": "code",
   "execution_count": 172,
   "metadata": {},
   "outputs": [],
   "source": [
    "df1 = pd.read_csv('D:/Data Analysis course/Case study/1.Working with existing question and datasets/Case Study 1/Datasets/202101-divvy-tripdata/202101-divvy-tripdata.csv')\n",
    "df2 = pd.read_csv('D:/Data Analysis course/Case study/1.Working with existing question and datasets/Case Study 1/Datasets/202102-divvy-tripdata/202102-divvy-tripdata.csv')\n",
    "df3 = pd.read_csv('D:/Data Analysis course/Case study/1.Working with existing question and datasets/Case Study 1/Datasets/202103-divvy-tripdata/202103-divvy-tripdata.csv')\n",
    "df4 = pd.read_csv('D:/Data Analysis course/Case study/1.Working with existing question and datasets/Case Study 1/Datasets/202104-divvy-tripdata/202104-divvy-tripdata.csv')\n",
    "df5 = pd.read_csv('D:/Data Analysis course/Case study/1.Working with existing question and datasets/Case Study 1/Datasets/202105-divvy-tripdata/202105-divvy-tripdata.csv')\n",
    "df6 = pd.read_csv('D:/Data Analysis course/Case study/1.Working with existing question and datasets/Case Study 1/Datasets/202106-divvy-tripdata/202106-divvy-tripdata.csv')\n",
    "df7 = pd.read_csv('D:/Data Analysis course/Case study/1.Working with existing question and datasets/Case Study 1/Datasets/202107-divvy-tripdata/202107-divvy-tripdata.csv')\n",
    "df8 = pd.read_csv('D:/Data Analysis course/Case study/1.Working with existing question and datasets/Case Study 1/Datasets/202108-divvy-tripdata/202108-divvy-tripdata.csv')\n",
    "df9 = pd.read_csv('D:/Data Analysis course/Case study/1.Working with existing question and datasets/Case Study 1/Datasets/202109-divvy-tripdata/202109-divvy-tripdata.csv')\n",
    "df10 = pd.read_csv('D:/Data Analysis course/Case study/1.Working with existing question and datasets/Case Study 1/Datasets/202110-divvy-tripdata/202110-divvy-tripdata.csv')\n",
    "df11 = pd.read_csv('D:/Data Analysis course/Case study/1.Working with existing question and datasets/Case Study 1/Datasets/202111-divvy-tripdata/202111-divvy-tripdata.csv')\n",
    "df12 = pd.read_csv('D:/Data Analysis course/Case study/1.Working with existing question and datasets/Case Study 1/Datasets/202112-divvy-tripdata/202112-divvy-tripdata.csv')"
   ]
  },
  {
   "attachments": {},
   "cell_type": "markdown",
   "metadata": {},
   "source": [
    "# Merging all data"
   ]
  },
  {
   "cell_type": "code",
   "execution_count": 173,
   "metadata": {},
   "outputs": [
    {
     "data": {
      "text/plain": [
       "(5595063, 13)"
      ]
     },
     "execution_count": 173,
     "metadata": {},
     "output_type": "execute_result"
    }
   ],
   "source": [
    "cyclistic_data = pd.concat([df1, df2, df3, df4, df5, df6, df7, df8, df9, df10, df11, df12])\n",
    "cyclistic_data.shape"
   ]
  },
  {
   "cell_type": "code",
   "execution_count": 174,
   "metadata": {},
   "outputs": [
    {
     "data": {
      "text/html": [
       "<div>\n",
       "<style scoped>\n",
       "    .dataframe tbody tr th:only-of-type {\n",
       "        vertical-align: middle;\n",
       "    }\n",
       "\n",
       "    .dataframe tbody tr th {\n",
       "        vertical-align: top;\n",
       "    }\n",
       "\n",
       "    .dataframe thead th {\n",
       "        text-align: right;\n",
       "    }\n",
       "</style>\n",
       "<table border=\"1\" class=\"dataframe\">\n",
       "  <thead>\n",
       "    <tr style=\"text-align: right;\">\n",
       "      <th></th>\n",
       "      <th>ride_id</th>\n",
       "      <th>rideable_type</th>\n",
       "      <th>started_at</th>\n",
       "      <th>ended_at</th>\n",
       "      <th>start_station_name</th>\n",
       "      <th>start_station_id</th>\n",
       "      <th>end_station_name</th>\n",
       "      <th>end_station_id</th>\n",
       "      <th>start_lat</th>\n",
       "      <th>start_lng</th>\n",
       "      <th>end_lat</th>\n",
       "      <th>end_lng</th>\n",
       "      <th>member_casual</th>\n",
       "    </tr>\n",
       "  </thead>\n",
       "  <tbody>\n",
       "    <tr>\n",
       "      <th>0</th>\n",
       "      <td>E19E6F1B8D4C42ED</td>\n",
       "      <td>electric_bike</td>\n",
       "      <td>2021-01-23 16:14:19</td>\n",
       "      <td>2021-01-23 16:24:44</td>\n",
       "      <td>California Ave &amp; Cortez St</td>\n",
       "      <td>17660</td>\n",
       "      <td>NaN</td>\n",
       "      <td>NaN</td>\n",
       "      <td>41.900341</td>\n",
       "      <td>-87.696743</td>\n",
       "      <td>41.89</td>\n",
       "      <td>-87.72</td>\n",
       "      <td>member</td>\n",
       "    </tr>\n",
       "    <tr>\n",
       "      <th>1</th>\n",
       "      <td>DC88F20C2C55F27F</td>\n",
       "      <td>electric_bike</td>\n",
       "      <td>2021-01-27 18:43:08</td>\n",
       "      <td>2021-01-27 18:47:12</td>\n",
       "      <td>California Ave &amp; Cortez St</td>\n",
       "      <td>17660</td>\n",
       "      <td>NaN</td>\n",
       "      <td>NaN</td>\n",
       "      <td>41.900333</td>\n",
       "      <td>-87.696707</td>\n",
       "      <td>41.90</td>\n",
       "      <td>-87.69</td>\n",
       "      <td>member</td>\n",
       "    </tr>\n",
       "    <tr>\n",
       "      <th>2</th>\n",
       "      <td>EC45C94683FE3F27</td>\n",
       "      <td>electric_bike</td>\n",
       "      <td>2021-01-21 22:35:54</td>\n",
       "      <td>2021-01-21 22:37:14</td>\n",
       "      <td>California Ave &amp; Cortez St</td>\n",
       "      <td>17660</td>\n",
       "      <td>NaN</td>\n",
       "      <td>NaN</td>\n",
       "      <td>41.900313</td>\n",
       "      <td>-87.696643</td>\n",
       "      <td>41.90</td>\n",
       "      <td>-87.70</td>\n",
       "      <td>member</td>\n",
       "    </tr>\n",
       "    <tr>\n",
       "      <th>3</th>\n",
       "      <td>4FA453A75AE377DB</td>\n",
       "      <td>electric_bike</td>\n",
       "      <td>2021-01-07 13:31:13</td>\n",
       "      <td>2021-01-07 13:42:55</td>\n",
       "      <td>California Ave &amp; Cortez St</td>\n",
       "      <td>17660</td>\n",
       "      <td>NaN</td>\n",
       "      <td>NaN</td>\n",
       "      <td>41.900399</td>\n",
       "      <td>-87.696662</td>\n",
       "      <td>41.92</td>\n",
       "      <td>-87.69</td>\n",
       "      <td>member</td>\n",
       "    </tr>\n",
       "    <tr>\n",
       "      <th>4</th>\n",
       "      <td>BE5E8EB4E7263A0B</td>\n",
       "      <td>electric_bike</td>\n",
       "      <td>2021-01-23 02:24:02</td>\n",
       "      <td>2021-01-23 02:24:45</td>\n",
       "      <td>California Ave &amp; Cortez St</td>\n",
       "      <td>17660</td>\n",
       "      <td>NaN</td>\n",
       "      <td>NaN</td>\n",
       "      <td>41.900326</td>\n",
       "      <td>-87.696697</td>\n",
       "      <td>41.90</td>\n",
       "      <td>-87.70</td>\n",
       "      <td>casual</td>\n",
       "    </tr>\n",
       "  </tbody>\n",
       "</table>\n",
       "</div>"
      ],
      "text/plain": [
       "            ride_id  rideable_type           started_at             ended_at  \\\n",
       "0  E19E6F1B8D4C42ED  electric_bike  2021-01-23 16:14:19  2021-01-23 16:24:44   \n",
       "1  DC88F20C2C55F27F  electric_bike  2021-01-27 18:43:08  2021-01-27 18:47:12   \n",
       "2  EC45C94683FE3F27  electric_bike  2021-01-21 22:35:54  2021-01-21 22:37:14   \n",
       "3  4FA453A75AE377DB  electric_bike  2021-01-07 13:31:13  2021-01-07 13:42:55   \n",
       "4  BE5E8EB4E7263A0B  electric_bike  2021-01-23 02:24:02  2021-01-23 02:24:45   \n",
       "\n",
       "           start_station_name start_station_id end_station_name  \\\n",
       "0  California Ave & Cortez St            17660              NaN   \n",
       "1  California Ave & Cortez St            17660              NaN   \n",
       "2  California Ave & Cortez St            17660              NaN   \n",
       "3  California Ave & Cortez St            17660              NaN   \n",
       "4  California Ave & Cortez St            17660              NaN   \n",
       "\n",
       "  end_station_id  start_lat  start_lng  end_lat  end_lng member_casual  \n",
       "0            NaN  41.900341 -87.696743    41.89   -87.72        member  \n",
       "1            NaN  41.900333 -87.696707    41.90   -87.69        member  \n",
       "2            NaN  41.900313 -87.696643    41.90   -87.70        member  \n",
       "3            NaN  41.900399 -87.696662    41.92   -87.69        member  \n",
       "4            NaN  41.900326 -87.696697    41.90   -87.70        casual  "
      ]
     },
     "execution_count": 174,
     "metadata": {},
     "output_type": "execute_result"
    }
   ],
   "source": [
    "cyclistic_data.head()"
   ]
  },
  {
   "cell_type": "code",
   "execution_count": 175,
   "metadata": {},
   "outputs": [
    {
     "name": "stdout",
     "output_type": "stream",
     "text": [
      "<class 'pandas.core.frame.DataFrame'>\n",
      "Int64Index: 5595063 entries, 0 to 247539\n",
      "Data columns (total 13 columns):\n",
      " #   Column              Dtype  \n",
      "---  ------              -----  \n",
      " 0   ride_id             object \n",
      " 1   rideable_type       object \n",
      " 2   started_at          object \n",
      " 3   ended_at            object \n",
      " 4   start_station_name  object \n",
      " 5   start_station_id    object \n",
      " 6   end_station_name    object \n",
      " 7   end_station_id      object \n",
      " 8   start_lat           float64\n",
      " 9   start_lng           float64\n",
      " 10  end_lat             float64\n",
      " 11  end_lng             float64\n",
      " 12  member_casual       object \n",
      "dtypes: float64(4), object(9)\n",
      "memory usage: 597.6+ MB\n"
     ]
    }
   ],
   "source": [
    "cyclistic_data.info()"
   ]
  },
  {
   "attachments": {},
   "cell_type": "markdown",
   "metadata": {},
   "source": [
    "# Data Cleaning"
   ]
  },
  {
   "cell_type": "code",
   "execution_count": 176,
   "metadata": {},
   "outputs": [],
   "source": [
    "#creating a backup\n",
    "cyclistic_data.to_csv('cyclistic_data.csv')"
   ]
  },
  {
   "cell_type": "code",
   "execution_count": 177,
   "metadata": {},
   "outputs": [],
   "source": [
    "# change rideable_type to a categorical dtype\n",
    "cyclistic_data['rideable_type'] = cyclistic_data.rideable_type.astype('category')"
   ]
  },
  {
   "cell_type": "code",
   "execution_count": 178,
   "metadata": {},
   "outputs": [],
   "source": [
    "#change member_casual to a categorical dtype\n",
    "cyclistic_data['member_casual'] = cyclistic_data.member_casual.astype('category')"
   ]
  },
  {
   "cell_type": "code",
   "execution_count": 179,
   "metadata": {},
   "outputs": [],
   "source": [
    "# dropping the (start_lng, end_lat) and(start_lat, end_lat) columns from the dataset\n",
    "cyclistic_data.drop(['start_lat', 'start_lng', 'end_lat', 'end_lng'], axis=1, inplace=True)"
   ]
  },
  {
   "cell_type": "code",
   "execution_count": 180,
   "metadata": {},
   "outputs": [],
   "source": [
    "# changing the 'started_at' and 'ended_at' dtype to datetime\n",
    "cyclistic_data['started_at'] = pd.to_datetime(cyclistic_data.started_at)\n",
    "cyclistic_data['ended_at'] = pd.to_datetime(cyclistic_data.ended_at)"
   ]
  },
  {
   "cell_type": "code",
   "execution_count": 181,
   "metadata": {},
   "outputs": [
    {
     "data": {
      "text/plain": [
       "ride_id                    0\n",
       "rideable_type              0\n",
       "started_at                 0\n",
       "ended_at                   0\n",
       "start_station_name    690809\n",
       "start_station_id      690806\n",
       "end_station_name      739170\n",
       "end_station_id        739170\n",
       "member_casual              0\n",
       "dtype: int64"
      ]
     },
     "execution_count": 181,
     "metadata": {},
     "output_type": "execute_result"
    }
   ],
   "source": [
    "# finding missing values\n",
    "cyclistic_data.isnull().sum()"
   ]
  },
  {
   "cell_type": "code",
   "execution_count": 182,
   "metadata": {},
   "outputs": [
    {
     "data": {
      "text/plain": [
       "0        0 days 00:10:25\n",
       "1        0 days 00:04:04\n",
       "2        0 days 00:01:20\n",
       "3        0 days 00:11:42\n",
       "4        0 days 00:00:43\n",
       "               ...      \n",
       "247535   0 days 00:19:13\n",
       "247536   0 days 00:07:01\n",
       "247537   0 days 00:08:17\n",
       "247538   0 days 00:14:13\n",
       "247539   0 days 00:03:37\n",
       "Name: ride_length, Length: 5595063, dtype: timedelta64[ns]"
      ]
     },
     "execution_count": 182,
     "metadata": {},
     "output_type": "execute_result"
    }
   ],
   "source": [
    "# adding a new column ride_length (ended_at - started_at) to calculate the time travelled\n",
    "cyclistic_data['ride_length'] = cyclistic_data['ended_at'] - cyclistic_data['started_at']\n",
    "cyclistic_data['ride_length']"
   ]
  },
  {
   "cell_type": "code",
   "execution_count": 183,
   "metadata": {},
   "outputs": [
    {
     "data": {
      "text/plain": [
       "0    2021-01-23\n",
       "1    2021-01-27\n",
       "2    2021-01-21\n",
       "3    2021-01-07\n",
       "4    2021-01-23\n",
       "Name: start_date, dtype: object"
      ]
     },
     "execution_count": 183,
     "metadata": {},
     "output_type": "execute_result"
    }
   ],
   "source": [
    "# splitting and extracting the date from the 'started_at' column\n",
    "cyclistic_data['start_date'] = cyclistic_data.started_at.dt.date\n",
    "cyclistic_data.start_date.head()"
   ]
  },
  {
   "cell_type": "code",
   "execution_count": 184,
   "metadata": {},
   "outputs": [],
   "source": [
    "# converting 'start_date' into a datetime\n",
    "cyclistic_data['start_date'] = pd.to_datetime(cyclistic_data.start_date)"
   ]
  },
  {
   "cell_type": "code",
   "execution_count": 185,
   "metadata": {},
   "outputs": [
    {
     "data": {
      "text/plain": [
       "array(['Saturday', 'Wednesday', 'Thursday', 'Monday', 'Sunday', 'Friday',\n",
       "       'Tuesday'], dtype=object)"
      ]
     },
     "execution_count": 185,
     "metadata": {},
     "output_type": "execute_result"
    }
   ],
   "source": [
    "# finding the weekday of the date \n",
    "cyclistic_data['day_name'] = cyclistic_data['start_date'].dt.day_name()\n",
    "cyclistic_data['day_name'].unique()"
   ]
  },
  {
   "cell_type": "code",
   "execution_count": 186,
   "metadata": {},
   "outputs": [],
   "source": [
    "# changing day_name to  categorical dtype\n",
    "cyclistic_data['day_name'] = cyclistic_data.day_name.astype('category')"
   ]
  },
  {
   "cell_type": "code",
   "execution_count": 187,
   "metadata": {},
   "outputs": [
    {
     "data": {
      "text/plain": [
       "['Saturday', 'Wednesday', 'Thursday', 'Monday', 'Sunday', 'Friday', 'Tuesday']\n",
       "Categories (7, object): ['Sunday' < 'Monday' < 'Tuesday' < 'Wednesday' < 'Thursday' < 'Friday' < 'Saturday']"
      ]
     },
     "execution_count": 187,
     "metadata": {},
     "output_type": "execute_result"
    }
   ],
   "source": [
    "# sort day_name\n",
    "cyclistic_data['day_name'] = cyclistic_data.day_name.astype(CategoricalDtype(categories=['Sunday', 'Monday', 'Tuesday', 'Wednesday', 'Thursday','Friday', 'Saturday'],ordered=True))\n",
    "cyclistic_data['day_name'].unique()"
   ]
  },
  {
   "cell_type": "code",
   "execution_count": 188,
   "metadata": {},
   "outputs": [],
   "source": [
    "cyclistic_data['year'] = pd.DatetimeIndex(cyclistic_data['start_date']).year\n",
    "cyclistic_data['month'] = pd.DatetimeIndex(cyclistic_data['start_date']).month"
   ]
  },
  {
   "cell_type": "code",
   "execution_count": 189,
   "metadata": {},
   "outputs": [],
   "source": [
    "# sort the dataframe by ascending using start_at\n",
    "cyclistic_data.sort_values(by=['started_at'], inplace=True , ascending=True)"
   ]
  },
  {
   "cell_type": "code",
   "execution_count": 190,
   "metadata": {},
   "outputs": [
    {
     "data": {
      "text/plain": [
       "ride_id                    0\n",
       "rideable_type              0\n",
       "started_at                 0\n",
       "ended_at                   0\n",
       "start_station_name    690809\n",
       "start_station_id      690806\n",
       "end_station_name      739170\n",
       "end_station_id        739170\n",
       "member_casual              0\n",
       "ride_length                0\n",
       "start_date                 0\n",
       "day_name                   0\n",
       "year                       0\n",
       "month                      0\n",
       "dtype: int64"
      ]
     },
     "execution_count": 190,
     "metadata": {},
     "output_type": "execute_result"
    }
   ],
   "source": [
    "cyclistic_data.isnull().sum()"
   ]
  },
  {
   "cell_type": "code",
   "execution_count": 191,
   "metadata": {},
   "outputs": [],
   "source": [
    "# drop all rows with NAN values\n",
    "cyclistic_data.dropna(inplace= True)"
   ]
  },
  {
   "cell_type": "code",
   "execution_count": 192,
   "metadata": {},
   "outputs": [],
   "source": [
    "#save the cleaned file\n",
    "cyclistic_data.to_csv('cyclistic_data_cleaned.csv')"
   ]
  },
  {
   "cell_type": "code",
   "execution_count": 193,
   "metadata": {},
   "outputs": [
    {
     "data": {
      "text/plain": [
       "ride_id               0\n",
       "rideable_type         0\n",
       "started_at            0\n",
       "ended_at              0\n",
       "start_station_name    0\n",
       "start_station_id      0\n",
       "end_station_name      0\n",
       "end_station_id        0\n",
       "member_casual         0\n",
       "ride_length           0\n",
       "start_date            0\n",
       "day_name              0\n",
       "year                  0\n",
       "month                 0\n",
       "dtype: int64"
      ]
     },
     "execution_count": 193,
     "metadata": {},
     "output_type": "execute_result"
    }
   ],
   "source": [
    "cyclistic_data.isnull().sum()"
   ]
  },
  {
   "cell_type": "code",
   "execution_count": 194,
   "metadata": {},
   "outputs": [
    {
     "data": {
      "text/plain": [
       "False"
      ]
     },
     "execution_count": 194,
     "metadata": {},
     "output_type": "execute_result"
    }
   ],
   "source": [
    "# check for any duplicated values\n",
    "cyclistic_data.duplicated().any()"
   ]
  },
  {
   "attachments": {},
   "cell_type": "markdown",
   "metadata": {},
   "source": [
    "# Analysis"
   ]
  },
  {
   "cell_type": "code",
   "execution_count": 195,
   "metadata": {},
   "outputs": [
    {
     "data": {
      "text/plain": [
       "count                      4588302\n",
       "mean     0 days 00:21:48.637676421\n",
       "std      0 days 03:04:25.503842186\n",
       "min              -1 days +23:04:06\n",
       "25%                0 days 00:06:57\n",
       "50%                0 days 00:12:12\n",
       "75%                0 days 00:22:07\n",
       "max               38 days 20:24:09\n",
       "Name: ride_length, dtype: object"
      ]
     },
     "execution_count": 195,
     "metadata": {},
     "output_type": "execute_result"
    }
   ],
   "source": [
    "# calculate the mean, total count,min, max,and standard deviation of ride length of all types of users\n",
    "cyclistic_data.ride_length.describe(datetime_is_numeric=True)"
   ]
  },
  {
   "cell_type": "code",
   "execution_count": 196,
   "metadata": {},
   "outputs": [
    {
     "data": {
      "text/plain": [
       "ride_id               116\n",
       "rideable_type         116\n",
       "started_at            116\n",
       "ended_at              116\n",
       "start_station_name    116\n",
       "start_station_id      116\n",
       "end_station_name      116\n",
       "end_station_id        116\n",
       "member_casual         116\n",
       "ride_length           116\n",
       "start_date            116\n",
       "day_name              116\n",
       "year                  116\n",
       "month                 116\n",
       "dtype: int64"
      ]
     },
     "execution_count": 196,
     "metadata": {},
     "output_type": "execute_result"
    }
   ],
   "source": [
    "# filtered the negative values\n",
    "negative_duration = cyclistic_data['ride_length'] < '00:00:00'\n",
    "# showing the number of negative_duration\n",
    "cyclistic_data[negative_duration].count()"
   ]
  },
  {
   "attachments": {},
   "cell_type": "markdown",
   "metadata": {},
   "source": [
    "**Removed the negative values in the dataset that skewed the result**"
   ]
  },
  {
   "cell_type": "code",
   "execution_count": 197,
   "metadata": {},
   "outputs": [],
   "source": [
    "# removing the negative duration\n",
    "cyclistic_data.drop(cyclistic_data[negative_duration].index , inplace=True)"
   ]
  },
  {
   "cell_type": "markdown",
   "metadata": {},
   "source": [
    "**filtred the ride length into members and casual riders**"
   ]
  },
  {
   "cell_type": "code",
   "execution_count": 198,
   "metadata": {},
   "outputs": [
    {
     "data": {
      "text/plain": [
       "count                      2539431\n",
       "mean     0 days 00:13:11.022482989\n",
       "std      0 days 00:17:32.901085710\n",
       "min                0 days 00:00:00\n",
       "25%                0 days 00:05:43\n",
       "50%                0 days 00:09:43\n",
       "75%                0 days 00:16:31\n",
       "max                1 days 00:55:38\n",
       "Name: ride_length, dtype: object"
      ]
     },
     "execution_count": 198,
     "metadata": {},
     "output_type": "execute_result"
    }
   ],
   "source": [
    "# filtering the ride length for members\n",
    "member_filter = cyclistic_data['member_casual'] == 'member'\n",
    "cyclistic_data[member_filter].ride_length.describe()"
   ]
  },
  {
   "cell_type": "code",
   "execution_count": 199,
   "metadata": {},
   "outputs": [
    {
     "data": {
      "text/plain": [
       "count                      2048013\n",
       "mean     0 days 00:32:30.635092648\n",
       "std      0 days 04:34:58.555432792\n",
       "min                0 days 00:00:00\n",
       "25%                0 days 00:09:30\n",
       "50%                0 days 00:16:39\n",
       "75%                0 days 00:30:39\n",
       "max               38 days 20:24:09\n",
       "Name: ride_length, dtype: object"
      ]
     },
     "execution_count": 199,
     "metadata": {},
     "output_type": "execute_result"
    }
   ],
   "source": [
    "# filtering the ride length for casual riders\n",
    "cyclistic_data[~member_filter].ride_length.describe()"
   ]
  },
  {
   "cell_type": "code",
   "execution_count": 200,
   "metadata": {},
   "outputs": [
    {
     "data": {
      "text/html": [
       "<div>\n",
       "<style scoped>\n",
       "    .dataframe tbody tr th:only-of-type {\n",
       "        vertical-align: middle;\n",
       "    }\n",
       "\n",
       "    .dataframe tbody tr th {\n",
       "        vertical-align: top;\n",
       "    }\n",
       "\n",
       "    .dataframe thead th {\n",
       "        text-align: right;\n",
       "    }\n",
       "</style>\n",
       "<table border=\"1\" class=\"dataframe\">\n",
       "  <thead>\n",
       "    <tr style=\"text-align: right;\">\n",
       "      <th></th>\n",
       "      <th>ride_id</th>\n",
       "      <th>rideable_type</th>\n",
       "      <th>started_at</th>\n",
       "      <th>ended_at</th>\n",
       "      <th>start_station_name</th>\n",
       "      <th>start_station_id</th>\n",
       "      <th>end_station_name</th>\n",
       "      <th>end_station_id</th>\n",
       "      <th>member_casual</th>\n",
       "      <th>ride_length</th>\n",
       "      <th>start_date</th>\n",
       "      <th>day_name</th>\n",
       "      <th>year</th>\n",
       "      <th>month</th>\n",
       "    </tr>\n",
       "  </thead>\n",
       "  <tbody>\n",
       "    <tr>\n",
       "      <th>78336</th>\n",
       "      <td>0D139A3203274B87</td>\n",
       "      <td>classic_bike</td>\n",
       "      <td>2021-01-01 00:02:24</td>\n",
       "      <td>2021-01-01 00:08:39</td>\n",
       "      <td>State St &amp; 33rd St</td>\n",
       "      <td>13216</td>\n",
       "      <td>MLK Jr Dr &amp; 29th St</td>\n",
       "      <td>TA1307000139</td>\n",
       "      <td>member</td>\n",
       "      <td>0 days 00:06:15</td>\n",
       "      <td>2021-01-01</td>\n",
       "      <td>Friday</td>\n",
       "      <td>2021</td>\n",
       "      <td>1</td>\n",
       "    </tr>\n",
       "    <tr>\n",
       "      <th>39961</th>\n",
       "      <td>C7AE8E9CDB197A8E</td>\n",
       "      <td>classic_bike</td>\n",
       "      <td>2021-01-01 00:06:55</td>\n",
       "      <td>2021-01-01 00:26:36</td>\n",
       "      <td>Lakeview Ave &amp; Fullerton Pkwy</td>\n",
       "      <td>TA1309000019</td>\n",
       "      <td>Ritchie Ct &amp; Banks St</td>\n",
       "      <td>KA1504000134</td>\n",
       "      <td>member</td>\n",
       "      <td>0 days 00:19:41</td>\n",
       "      <td>2021-01-01</td>\n",
       "      <td>Friday</td>\n",
       "      <td>2021</td>\n",
       "      <td>1</td>\n",
       "    </tr>\n",
       "    <tr>\n",
       "      <th>33916</th>\n",
       "      <td>3097EF26414C7016</td>\n",
       "      <td>classic_bike</td>\n",
       "      <td>2021-01-01 00:12:21</td>\n",
       "      <td>2021-01-01 00:12:33</td>\n",
       "      <td>Montrose Harbor</td>\n",
       "      <td>TA1308000012</td>\n",
       "      <td>Montrose Harbor</td>\n",
       "      <td>TA1308000012</td>\n",
       "      <td>member</td>\n",
       "      <td>0 days 00:00:12</td>\n",
       "      <td>2021-01-01</td>\n",
       "      <td>Friday</td>\n",
       "      <td>2021</td>\n",
       "      <td>1</td>\n",
       "    </tr>\n",
       "    <tr>\n",
       "      <th>33924</th>\n",
       "      <td>938D5D1998A5470E</td>\n",
       "      <td>classic_bike</td>\n",
       "      <td>2021-01-01 00:12:27</td>\n",
       "      <td>2021-01-01 00:12:30</td>\n",
       "      <td>Montrose Harbor</td>\n",
       "      <td>TA1308000012</td>\n",
       "      <td>Montrose Harbor</td>\n",
       "      <td>TA1308000012</td>\n",
       "      <td>casual</td>\n",
       "      <td>0 days 00:00:03</td>\n",
       "      <td>2021-01-01</td>\n",
       "      <td>Friday</td>\n",
       "      <td>2021</td>\n",
       "      <td>1</td>\n",
       "    </tr>\n",
       "    <tr>\n",
       "      <th>86537</th>\n",
       "      <td>6604F61AE4B14BC1</td>\n",
       "      <td>electric_bike</td>\n",
       "      <td>2021-01-01 00:12:49</td>\n",
       "      <td>2021-01-01 00:43:59</td>\n",
       "      <td>Western Ave &amp; Howard St</td>\n",
       "      <td>527</td>\n",
       "      <td>Campbell Ave &amp; Fullerton Ave</td>\n",
       "      <td>15648</td>\n",
       "      <td>member</td>\n",
       "      <td>0 days 00:31:10</td>\n",
       "      <td>2021-01-01</td>\n",
       "      <td>Friday</td>\n",
       "      <td>2021</td>\n",
       "      <td>1</td>\n",
       "    </tr>\n",
       "    <tr>\n",
       "      <th>...</th>\n",
       "      <td>...</td>\n",
       "      <td>...</td>\n",
       "      <td>...</td>\n",
       "      <td>...</td>\n",
       "      <td>...</td>\n",
       "      <td>...</td>\n",
       "      <td>...</td>\n",
       "      <td>...</td>\n",
       "      <td>...</td>\n",
       "      <td>...</td>\n",
       "      <td>...</td>\n",
       "      <td>...</td>\n",
       "      <td>...</td>\n",
       "      <td>...</td>\n",
       "    </tr>\n",
       "    <tr>\n",
       "      <th>131716</th>\n",
       "      <td>7B3D0E8AB0842D5E</td>\n",
       "      <td>classic_bike</td>\n",
       "      <td>2021-12-31 23:58:21</td>\n",
       "      <td>2022-01-01 00:46:56</td>\n",
       "      <td>Michigan Ave &amp; Lake St</td>\n",
       "      <td>TA1305000011</td>\n",
       "      <td>Clinton St &amp; Tilden St</td>\n",
       "      <td>13037</td>\n",
       "      <td>casual</td>\n",
       "      <td>0 days 00:48:35</td>\n",
       "      <td>2021-12-31</td>\n",
       "      <td>Friday</td>\n",
       "      <td>2021</td>\n",
       "      <td>12</td>\n",
       "    </tr>\n",
       "    <tr>\n",
       "      <th>131717</th>\n",
       "      <td>B5AEBEF3B5F41C77</td>\n",
       "      <td>electric_bike</td>\n",
       "      <td>2021-12-31 23:58:45</td>\n",
       "      <td>2022-01-01 00:47:07</td>\n",
       "      <td>Michigan Ave &amp; Lake St</td>\n",
       "      <td>TA1305000011</td>\n",
       "      <td>Clinton St &amp; Tilden St</td>\n",
       "      <td>13037</td>\n",
       "      <td>casual</td>\n",
       "      <td>0 days 00:48:22</td>\n",
       "      <td>2021-12-31</td>\n",
       "      <td>Friday</td>\n",
       "      <td>2021</td>\n",
       "      <td>12</td>\n",
       "    </tr>\n",
       "    <tr>\n",
       "      <th>47588</th>\n",
       "      <td>CE1BE016BCE85CCB</td>\n",
       "      <td>electric_bike</td>\n",
       "      <td>2021-12-31 23:59:27</td>\n",
       "      <td>2022-01-01 00:32:34</td>\n",
       "      <td>Clark St &amp; Ida B Wells Dr</td>\n",
       "      <td>TA1305000009</td>\n",
       "      <td>Clark St &amp; Ida B Wells Dr</td>\n",
       "      <td>TA1305000009</td>\n",
       "      <td>casual</td>\n",
       "      <td>0 days 00:33:07</td>\n",
       "      <td>2021-12-31</td>\n",
       "      <td>Friday</td>\n",
       "      <td>2021</td>\n",
       "      <td>12</td>\n",
       "    </tr>\n",
       "    <tr>\n",
       "      <th>52286</th>\n",
       "      <td>B0466FF51982DE4B</td>\n",
       "      <td>electric_bike</td>\n",
       "      <td>2021-12-31 23:59:39</td>\n",
       "      <td>2022-01-01 00:21:08</td>\n",
       "      <td>Millennium Park</td>\n",
       "      <td>13008</td>\n",
       "      <td>Michigan Ave &amp; 14th St</td>\n",
       "      <td>TA1307000124</td>\n",
       "      <td>member</td>\n",
       "      <td>0 days 00:21:29</td>\n",
       "      <td>2021-12-31</td>\n",
       "      <td>Friday</td>\n",
       "      <td>2021</td>\n",
       "      <td>12</td>\n",
       "    </tr>\n",
       "    <tr>\n",
       "      <th>100735</th>\n",
       "      <td>297D1BD291D07BF3</td>\n",
       "      <td>electric_bike</td>\n",
       "      <td>2021-12-31 23:59:48</td>\n",
       "      <td>2022-01-01 00:14:42</td>\n",
       "      <td>Dearborn St &amp; Monroe St</td>\n",
       "      <td>TA1305000006</td>\n",
       "      <td>Clark St &amp; Lake St</td>\n",
       "      <td>KA1503000012</td>\n",
       "      <td>casual</td>\n",
       "      <td>0 days 00:14:54</td>\n",
       "      <td>2021-12-31</td>\n",
       "      <td>Friday</td>\n",
       "      <td>2021</td>\n",
       "      <td>12</td>\n",
       "    </tr>\n",
       "  </tbody>\n",
       "</table>\n",
       "<p>4587444 rows × 14 columns</p>\n",
       "</div>"
      ],
      "text/plain": [
       "                 ride_id  rideable_type          started_at  \\\n",
       "78336   0D139A3203274B87   classic_bike 2021-01-01 00:02:24   \n",
       "39961   C7AE8E9CDB197A8E   classic_bike 2021-01-01 00:06:55   \n",
       "33916   3097EF26414C7016   classic_bike 2021-01-01 00:12:21   \n",
       "33924   938D5D1998A5470E   classic_bike 2021-01-01 00:12:27   \n",
       "86537   6604F61AE4B14BC1  electric_bike 2021-01-01 00:12:49   \n",
       "...                  ...            ...                 ...   \n",
       "131716  7B3D0E8AB0842D5E   classic_bike 2021-12-31 23:58:21   \n",
       "131717  B5AEBEF3B5F41C77  electric_bike 2021-12-31 23:58:45   \n",
       "47588   CE1BE016BCE85CCB  electric_bike 2021-12-31 23:59:27   \n",
       "52286   B0466FF51982DE4B  electric_bike 2021-12-31 23:59:39   \n",
       "100735  297D1BD291D07BF3  electric_bike 2021-12-31 23:59:48   \n",
       "\n",
       "                  ended_at             start_station_name start_station_id  \\\n",
       "78336  2021-01-01 00:08:39             State St & 33rd St            13216   \n",
       "39961  2021-01-01 00:26:36  Lakeview Ave & Fullerton Pkwy     TA1309000019   \n",
       "33916  2021-01-01 00:12:33                Montrose Harbor     TA1308000012   \n",
       "33924  2021-01-01 00:12:30                Montrose Harbor     TA1308000012   \n",
       "86537  2021-01-01 00:43:59        Western Ave & Howard St              527   \n",
       "...                    ...                            ...              ...   \n",
       "131716 2022-01-01 00:46:56         Michigan Ave & Lake St     TA1305000011   \n",
       "131717 2022-01-01 00:47:07         Michigan Ave & Lake St     TA1305000011   \n",
       "47588  2022-01-01 00:32:34      Clark St & Ida B Wells Dr     TA1305000009   \n",
       "52286  2022-01-01 00:21:08                Millennium Park            13008   \n",
       "100735 2022-01-01 00:14:42        Dearborn St & Monroe St     TA1305000006   \n",
       "\n",
       "                    end_station_name end_station_id member_casual  \\\n",
       "78336            MLK Jr Dr & 29th St   TA1307000139        member   \n",
       "39961          Ritchie Ct & Banks St   KA1504000134        member   \n",
       "33916                Montrose Harbor   TA1308000012        member   \n",
       "33924                Montrose Harbor   TA1308000012        casual   \n",
       "86537   Campbell Ave & Fullerton Ave          15648        member   \n",
       "...                              ...            ...           ...   \n",
       "131716        Clinton St & Tilden St          13037        casual   \n",
       "131717        Clinton St & Tilden St          13037        casual   \n",
       "47588      Clark St & Ida B Wells Dr   TA1305000009        casual   \n",
       "52286         Michigan Ave & 14th St   TA1307000124        member   \n",
       "100735            Clark St & Lake St   KA1503000012        casual   \n",
       "\n",
       "           ride_length start_date day_name  year  month  \n",
       "78336  0 days 00:06:15 2021-01-01   Friday  2021      1  \n",
       "39961  0 days 00:19:41 2021-01-01   Friday  2021      1  \n",
       "33916  0 days 00:00:12 2021-01-01   Friday  2021      1  \n",
       "33924  0 days 00:00:03 2021-01-01   Friday  2021      1  \n",
       "86537  0 days 00:31:10 2021-01-01   Friday  2021      1  \n",
       "...                ...        ...      ...   ...    ...  \n",
       "131716 0 days 00:48:35 2021-12-31   Friday  2021     12  \n",
       "131717 0 days 00:48:22 2021-12-31   Friday  2021     12  \n",
       "47588  0 days 00:33:07 2021-12-31   Friday  2021     12  \n",
       "52286  0 days 00:21:29 2021-12-31   Friday  2021     12  \n",
       "100735 0 days 00:14:54 2021-12-31   Friday  2021     12  \n",
       "\n",
       "[4587444 rows x 14 columns]"
      ]
     },
     "execution_count": 200,
     "metadata": {},
     "output_type": "execute_result"
    }
   ],
   "source": [
    "cyclistic_data"
   ]
  },
  {
   "cell_type": "markdown",
   "metadata": {},
   "source": [
    "**calculate the mode of the weekday for all the users**"
   ]
  },
  {
   "cell_type": "code",
   "execution_count": 201,
   "metadata": {},
   "outputs": [
    {
     "data": {
      "text/plain": [
       "0    Saturday\n",
       "Name: day_name, dtype: category\n",
       "Categories (7, object): ['Sunday' < 'Monday' < 'Tuesday' < 'Wednesday' < 'Thursday' < 'Friday' < 'Saturday']"
      ]
     },
     "execution_count": 201,
     "metadata": {},
     "output_type": "execute_result"
    }
   ],
   "source": [
    "# calculate the mode of week-day of all users \n",
    "mode_week_day = cyclistic_data['day_name'].mode()\n",
    "mode_week_day"
   ]
  },
  {
   "cell_type": "code",
   "execution_count": 202,
   "metadata": {},
   "outputs": [
    {
     "data": {
      "text/plain": [
       "0    Wednesday\n",
       "Name: day_name, dtype: category\n",
       "Categories (7, object): ['Sunday' < 'Monday' < 'Tuesday' < 'Wednesday' < 'Thursday' < 'Friday' < 'Saturday']"
      ]
     },
     "execution_count": 202,
     "metadata": {},
     "output_type": "execute_result"
    }
   ],
   "source": [
    "# calculte the mode of week-day of members\n",
    "mode_week_day_member = cyclistic_data[member_filter]\n",
    "mode_week_day_member = mode_week_day_member['day_name'].mode()\n",
    "mode_week_day_member"
   ]
  },
  {
   "cell_type": "code",
   "execution_count": 203,
   "metadata": {},
   "outputs": [
    {
     "data": {
      "text/plain": [
       "0    Saturday\n",
       "Name: day_name, dtype: category\n",
       "Categories (7, object): ['Sunday' < 'Monday' < 'Tuesday' < 'Wednesday' < 'Thursday' < 'Friday' < 'Saturday']"
      ]
     },
     "execution_count": 203,
     "metadata": {},
     "output_type": "execute_result"
    }
   ],
   "source": [
    "# calculate the mode of the week-day of casual riders\n",
    "mode_week_day_casual = cyclistic_data[~member_filter]\n",
    "mode_week_day_casual = mode_week_day_casual['day_name'].mode()\n",
    "mode_week_day_casual"
   ]
  },
  {
   "attachments": {},
   "cell_type": "markdown",
   "metadata": {},
   "source": [
    "**The day when users used the bikes the most is on Saturdays, which is also the same for the casual riders. For members riders showed that member riders used the bikes more on Wednesdays.**"
   ]
  },
  {
   "cell_type": "markdown",
   "metadata": {},
   "source": [
    "**----------------------------------------------------------------------------------------------------------------------------------------------------------------------------------------------------------------------------------------------**"
   ]
  },
  {
   "cell_type": "markdown",
   "metadata": {},
   "source": [
    "**calculated the number of rides by users in a week**"
   ]
  },
  {
   "cell_type": "code",
   "execution_count": 204,
   "metadata": {},
   "outputs": [
    {
     "data": {
      "text/plain": [
       "day_name\n",
       "Sunday       714852\n",
       "Monday       575326\n",
       "Tuesday      602976\n",
       "Wednesday    615732\n",
       "Thursday     597585\n",
       "Friday       655709\n",
       "Saturday     825264\n",
       "Name: ride_id, dtype: int64"
      ]
     },
     "execution_count": 204,
     "metadata": {},
     "output_type": "execute_result"
    }
   ],
   "source": [
    "# calculate the no. of rides by users in a week\n",
    "count_users = cyclistic_data.groupby('day_name')['ride_id'].count()\n",
    "count_users = count_users.sort_index()\n",
    "count_users"
   ]
  },
  {
   "cell_type": "code",
   "execution_count": 205,
   "metadata": {},
   "outputs": [
    {
     "data": {
      "text/plain": [
       "day_name\n",
       "Sunday       311167\n",
       "Monday       346428\n",
       "Tuesday      388071\n",
       "Wednesday    397618\n",
       "Thursday     373416\n",
       "Friday       365711\n",
       "Saturday     357020\n",
       "Name: ride_id, dtype: int64"
      ]
     },
     "execution_count": 205,
     "metadata": {},
     "output_type": "execute_result"
    }
   ],
   "source": [
    "# calculate the no. of rides by members in a week\n",
    "count_members = cyclistic_data[member_filter].groupby('day_name')['ride_id'].count()\n",
    "count_members"
   ]
  },
  {
   "cell_type": "code",
   "execution_count": 206,
   "metadata": {},
   "outputs": [
    {
     "data": {
      "text/plain": [
       "day_name\n",
       "Sunday       403685\n",
       "Monday       228898\n",
       "Tuesday      214905\n",
       "Wednesday    218114\n",
       "Thursday     224169\n",
       "Friday       289998\n",
       "Saturday     468244\n",
       "Name: ride_id, dtype: int64"
      ]
     },
     "execution_count": 206,
     "metadata": {},
     "output_type": "execute_result"
    }
   ],
   "source": [
    "# calculate the no. of rides by casual riders in a week\n",
    "count_casual = cyclistic_data[~member_filter].groupby('day_name')['ride_id'].count()\n",
    "count_casual"
   ]
  },
  {
   "cell_type": "code",
   "execution_count": 207,
   "metadata": {},
   "outputs": [
    {
     "name": "stdout",
     "output_type": "stream",
     "text": [
      "<class 'pandas.core.frame.DataFrame'>\n",
      "Int64Index: 4587444 entries, 78336 to 100735\n",
      "Data columns (total 14 columns):\n",
      " #   Column              Dtype          \n",
      "---  ------              -----          \n",
      " 0   ride_id             object         \n",
      " 1   rideable_type       category       \n",
      " 2   started_at          datetime64[ns] \n",
      " 3   ended_at            datetime64[ns] \n",
      " 4   start_station_name  object         \n",
      " 5   start_station_id    object         \n",
      " 6   end_station_name    object         \n",
      " 7   end_station_id      object         \n",
      " 8   member_casual       category       \n",
      " 9   ride_length         timedelta64[ns]\n",
      " 10  start_date          datetime64[ns] \n",
      " 11  day_name            category       \n",
      " 12  year                int64          \n",
      " 13  month               int64          \n",
      "dtypes: category(3), datetime64[ns](3), int64(2), object(5), timedelta64[ns](1)\n",
      "memory usage: 433.1+ MB\n"
     ]
    }
   ],
   "source": [
    "pd.DataFrame(cyclistic_data[~member_filter].groupby('day_name'))\n",
    "cyclistic_data.info()"
   ]
  },
  {
   "attachments": {},
   "cell_type": "markdown",
   "metadata": {},
   "source": [
    "**It showed that member riders used the bikes more on weekdays compared to casual riders.**"
   ]
  },
  {
   "cell_type": "markdown",
   "metadata": {},
   "source": [
    "**----------------------------------------------------------------------------------------------------------------------------------------------------------------------------------------------------------------------------------------------**"
   ]
  },
  {
   "attachments": {},
   "cell_type": "markdown",
   "metadata": {},
   "source": [
    "**The analysis reveals that member riders used the bikes more on weekdays, whereas casual riders tended to use the bikes more on weekends. This suggests that member riders primarily use the bikes for commuting to and from work on weekdays, while casual riders tend to use the bikes for running errands on weekends.**"
   ]
  },
  {
   "cell_type": "markdown",
   "metadata": {},
   "source": [
    "# VISUALIZTION"
   ]
  },
  {
   "cell_type": "code",
   "execution_count": 208,
   "metadata": {},
   "outputs": [
    {
     "data": {
      "image/png": "[encoded data removed]",
      "text/plain": [
       "<Figure size 1000x800 with 1 Axes>"
      ]
     },
     "metadata": {},
     "output_type": "display_data"
    }
   ],
   "source": [
    "# plot the graph for number of rides by casual riders and annual members\n",
    "plt.figure(figsize = (10,8)) \n",
    "plt.plot(count_members.index,count_members.values)\n",
    "plt.plot(count_casual.index,count_casual.values)\n",
    "plt.title('Number of rides by Annual Members and Casual Riders')\n",
    "plt.legend(['members','casual'])\n",
    "plt.show()"
   ]
  },
  {
   "attachments": {},
   "cell_type": "markdown",
   "metadata": {},
   "source": [
    "**This visualization shows that the use of bikes by casual riders increases on weekends and remains stable at a lower level during weekdays.In contrast, member riders tend to use bikes more on weekdays and less on weekends.**"
   ]
  },
  {
   "cell_type": "code",
   "execution_count": 209,
   "metadata": {},
   "outputs": [
    {
     "data": {
      "text/plain": [
       "day_name\n",
       "Sunday      0 days 00:27:50.981617173\n",
       "Monday      0 days 00:20:38.878588834\n",
       "Tuesday     0 days 00:18:14.297945523\n",
       "Wednesday   0 days 00:18:03.538635315\n",
       "Thursday    0 days 00:18:13.650349322\n",
       "Friday      0 days 00:20:48.576697894\n",
       "Saturday    0 days 00:26:11.803202369\n",
       "Name: ride_length, dtype: timedelta64[ns]"
      ]
     },
     "execution_count": 209,
     "metadata": {},
     "output_type": "execute_result"
    }
   ],
   "source": [
    "# calculate the average ride length for all users in a week\n",
    "user_avg_rides = cyclistic_data.groupby('day_name')['ride_length'].mean(numeric_only=False)\n",
    "user_avg_rides"
   ]
  },
  {
   "cell_type": "code",
   "execution_count": 210,
   "metadata": {},
   "outputs": [
    {
     "data": {
      "text/plain": [
       "day_name\n",
       "Sunday      0 days 00:15:11.692814469\n",
       "Monday      0 days 00:12:43.518309720\n",
       "Tuesday     0 days 00:12:23.223956440\n",
       "Wednesday   0 days 00:12:27.483320674\n",
       "Thursday    0 days 00:12:21.218391820\n",
       "Friday      0 days 00:12:47.563775768\n",
       "Saturday    0 days 00:14:49.105277015\n",
       "Name: ride_length, dtype: timedelta64[ns]"
      ]
     },
     "execution_count": 210,
     "metadata": {},
     "output_type": "execute_result"
    }
   ],
   "source": [
    "# calculate the average ride length for members in a week\n",
    "user_avg_members = cyclistic_data[member_filter].groupby('day_name')['ride_length'].mean(numeric_only=False)\n",
    "user_avg_members"
   ]
  },
  {
   "cell_type": "code",
   "execution_count": 211,
   "metadata": {},
   "outputs": [
    {
     "data": {
      "text/plain": [
       "day_name\n",
       "Sunday      0 days 00:37:36.253843962\n",
       "Monday      0 days 00:32:38.317425228\n",
       "Tuesday     0 days 00:28:48.260087015\n",
       "Wednesday   0 days 00:28:16.161585226\n",
       "Thursday    0 days 00:28:00.724083169\n",
       "Friday      0 days 00:30:55.173008089\n",
       "Saturday    0 days 00:34:52.336969614\n",
       "Name: ride_length, dtype: timedelta64[ns]"
      ]
     },
     "execution_count": 211,
     "metadata": {},
     "output_type": "execute_result"
    }
   ],
   "source": [
    "# calculate the average ride length for casual_riders in a week\n",
    "user_avg_casual = cyclistic_data[cyclistic_data['member_casual'] == 'casual'].groupby('day_name')['ride_length'].mean(numeric_only=False)\n",
    "user_avg_casual "
   ]
  },
  {
   "cell_type": "code",
   "execution_count": 212,
   "metadata": {},
   "outputs": [
    {
     "data": {
      "image/png": "[encoded data removed]",
      "text/plain": [
       "<Figure size 1000x600 with 1 Axes>"
      ]
     },
     "metadata": {},
     "output_type": "display_data"
    }
   ],
   "source": [
    "# plot the average ride_length for different users during the week\n",
    "plt.figure(figsize = (10,6))\n",
    "plt.plot(user_avg_members/pd.Timedelta(minutes=1))\n",
    "plt.plot(user_avg_casual/pd.Timedelta(minutes=1))\n",
    "plt.title('Average ride duration for members and casual riders during the week')\n",
    "plt.legend(['members','casual'])\n",
    "plt.show()"
   ]
  },
  {
   "cell_type": "code",
   "execution_count": 213,
   "metadata": {},
   "outputs": [
    {
     "data": {
      "text/plain": [
       "member    2539431\n",
       "casual    2048013\n",
       "Name: member_casual, dtype: int64"
      ]
     },
     "execution_count": 213,
     "metadata": {},
     "output_type": "execute_result"
    }
   ],
   "source": [
    "# check the number of users in each type over the past 12 months\n",
    "user_types = cyclistic_data['member_casual'].value_counts()\n",
    "user_types"
   ]
  },
  {
   "cell_type": "code",
   "execution_count": 214,
   "metadata": {},
   "outputs": [
    {
     "data": {
      "image/png": "[encoded data removed]",
      "text/plain": [
       "<Figure size 600x400 with 1 Axes>"
      ]
     },
     "metadata": {},
     "output_type": "display_data"
    }
   ],
   "source": [
    "# plot the bar chart of the number of users in each type over the past 12 months\n",
    "plt.figure(figsize = (6,4))\n",
    "plt.bar(user_types.index,user_types.values)\n",
    "plt.title('number of users in each type')\n",
    "plt.show()"
   ]
  },
  {
   "cell_type": "code",
   "execution_count": 215,
   "metadata": {},
   "outputs": [
    {
     "data": {
      "image/png": "[encoded data removed]",
      "text/plain": [
       "<Figure size 600x500 with 1 Axes>"
      ]
     },
     "metadata": {},
     "output_type": "display_data"
    }
   ],
   "source": [
    "# plot the pie chart of users in each type\n",
    "plt.figure(figsize= (6,5))\n",
    "plt.pie(user_types.values,labels= user_types.index,autopct='%1.1f%%') \n",
    "plt.title('Percentage of users in each type')\n",
    "plt.legend(user_types.index)\n",
    "plt.show()"
   ]
  },
  {
   "cell_type": "markdown",
   "metadata": {},
   "source": [
    "**The bar graph and the pie chart show that cyclisic has more members riders than casual riders.**"
   ]
  },
  {
   "cell_type": "code",
   "execution_count": 216,
   "metadata": {},
   "outputs": [
    {
     "data": {
      "text/plain": [
       "member_casual               \n",
       "casual         classic_bike     1261331\n",
       "               electric_bike     474679\n",
       "               docked_bike       312003\n",
       "member         classic_bike     1980041\n",
       "               electric_bike     559389\n",
       "               docked_bike            1\n",
       "Name: rideable_type, dtype: int64"
      ]
     },
     "execution_count": 216,
     "metadata": {},
     "output_type": "execute_result"
    }
   ],
   "source": [
    "# check the amount of users for a particular ride_type\n",
    "ride_type = cyclistic_data.groupby('member_casual')['rideable_type'].value_counts()\n",
    "ride_type"
   ]
  },
  {
   "cell_type": "code",
   "execution_count": 217,
   "metadata": {},
   "outputs": [],
   "source": [
    "# segregate the number of users into members and casual riders based on ride type\n",
    "list_member = []\n",
    "list_x = []\n",
    "list_y = list(ride_type.values)\n",
    "for i, j in ride_type.index:\n",
    "    list_x.append(j)\n",
    "    list_member.append(str(i))"
   ]
  },
  {
   "cell_type": "code",
   "execution_count": 218,
   "metadata": {},
   "outputs": [
    {
     "name": "stderr",
     "output_type": "stream",
     "text": [
      "c:\\Users\\User\\anaconda3\\lib\\site-packages\\seaborn\\_decorators.py:36: FutureWarning: Pass the following variables as keyword args: x, y. From version 0.12, the only valid positional argument will be `data`, and passing other arguments without an explicit keyword will result in an error or misinterpretation.\n",
      "  warnings.warn(\n"
     ]
    },
    {
     "data": {
      "text/plain": [
       "Text(0.5, 1.0, 'Member and Casual riders over the months based on ride_type')"
      ]
     },
     "execution_count": 218,
     "metadata": {},
     "output_type": "execute_result"
    },
    {
     "data": {
      "image/png": "[encoded data removed]",
      "text/plain": [
       "<Figure size 1200x800 with 1 Axes>"
      ]
     },
     "metadata": {},
     "output_type": "display_data"
    }
   ],
   "source": [
    "# plot the number of users into members and casual riders based on rider type\n",
    "plt.figure(figsize=(12,8))\n",
    "sns.barplot(list_x, list_y, hue=list_member)\n",
    "plt.title('Member and Casual riders over the months based on ride_type')"
   ]
  },
  {
   "attachments": {},
   "cell_type": "markdown",
   "metadata": {},
   "source": [
    "**The bar graph shows that member riders used the bikes more frequently than casual riders and did not use the docked bikes**"
   ]
  },
  {
   "cell_type": "code",
   "execution_count": 219,
   "metadata": {},
   "outputs": [
    {
     "data": {
      "text/plain": [
       "month        \n",
       "1      member     68801\n",
       "       casual     14688\n",
       "2      member     34370\n",
       "       casual      8612\n",
       "3      member    130016\n",
       "       casual     75624\n",
       "4      member    177752\n",
       "       casual    120393\n",
       "5      member    234112\n",
       "       casual    216785\n",
       "6      member    304537\n",
       "       casual    304144\n",
       "7      casual    369356\n",
       "       member    322856\n",
       "8      casual    341427\n",
       "       member    332880\n",
       "9      member    328152\n",
       "       casual    292893\n",
       "10     member    288797\n",
       "       casual    189080\n",
       "11     member    185890\n",
       "       casual     69950\n",
       "12     member    131268\n",
       "       casual     45061\n",
       "Name: member_casual, dtype: int64"
      ]
     },
     "execution_count": 219,
     "metadata": {},
     "output_type": "execute_result"
    }
   ],
   "source": [
    "# get the total amount of users in each category per month\n",
    "users_over_month = cyclistic_data.groupby('month')['member_casual'].value_counts()\n",
    "users_over_month"
   ]
  },
  {
   "cell_type": "code",
   "execution_count": 220,
   "metadata": {},
   "outputs": [],
   "source": [
    "# seggregate the number of users into members and casual over months\n",
    "list_month = []\n",
    "list_x = []\n",
    "list_y = (users_over_month.values)\n",
    "for i, j in users_over_month.index:\n",
    "    list_x.append(j)\n",
    "    list_month.append(str(i))"
   ]
  },
  {
   "cell_type": "code",
   "execution_count": 221,
   "metadata": {},
   "outputs": [
    {
     "name": "stderr",
     "output_type": "stream",
     "text": [
      "c:\\Users\\User\\anaconda3\\lib\\site-packages\\seaborn\\_decorators.py:36: FutureWarning: Pass the following variables as keyword args: x, y. From version 0.12, the only valid positional argument will be `data`, and passing other arguments without an explicit keyword will result in an error or misinterpretation.\n",
      "  warnings.warn(\n"
     ]
    },
    {
     "data": {
      "text/plain": [
       "Text(0.5, 1.0, 'Number of member and casual riders over the months')"
      ]
     },
     "execution_count": 221,
     "metadata": {},
     "output_type": "execute_result"
    },
    {
     "data": {
      "image/png": "[encoded data removed]",
      "text/plain": [
       "<Figure size 1500x700 with 1 Axes>"
      ]
     },
     "metadata": {},
     "output_type": "display_data"
    }
   ],
   "source": [
    "# plot count of members and casual riders over months\n",
    "plt.figure(figsize= (15,7))\n",
    "sns.barplot(list_x, list_y, hue =list_month)\n",
    "plt.title('Number of member and casual riders over the months')"
   ]
  },
  {
   "attachments": {},
   "cell_type": "markdown",
   "metadata": {},
   "source": [
    "# Conclusion"
   ]
  },
  {
   "attachments": {},
   "cell_type": "markdown",
   "metadata": {},
   "source": [
    "Insights\n",
    "* Cyclistic has more member riders than casual riders.\n",
    "* Casual riders use the bikes for longer periods of time compared to member riders.\n",
    "* Casual riders use the bikes heavily during the weekends, whereas member riders tend to use the bikes more on weekdays\n",
    "* During the months of July and August, Cyclistic had the highest number of casual riders among all the months\n",
    "* The Docked Bike ride type has no member rider users."
   ]
  },
  {
   "attachments": {},
   "cell_type": "markdown",
   "metadata": {},
   "source": [
    "Recommendations\n",
    "* Since casual riders tend to use the bikes for longer periods than member riders, we should offer promotions focused on subscriptions and usage time to gain more members.\n",
    "* Since most of casual riders use the bikes during the weekends, our marketing strategies should target casual riders that use the bikes for running errands on weekends.\n",
    "* Since the months of July and August have a high number of casual riders, we should allocate more marketing resources towards this period to make more subcribers from casual riders and people who haven't used our bikes.\n",
    "* As the Docked Bike ride type has no member rider users, we should create a Docked Bike-only subscription promotion to make more members from among the casual riders who typically use Docked Bikes."
   ]
  }
 ],
 "metadata": {
  "kernelspec": {
   "display_name": "base",
   "language": "python",
   "name": "python3"
  },
  "language_info": {
   "codemirror_mode": {
    "name": "ipython",
    "version": 3
   },
   "file_extension": ".py",
   "mimetype": "text/x-python",
   "name": "python",
   "nbconvert_exporter": "python",
   "pygments_lexer": "ipython3",
   "version": "3.9.13"
  },
  "orig_nbformat": 4,
  "vscode": {
   "interpreter": {
    "hash": "f08154012ddadd8e950e6e9e035c7a7b32c136e7647e9b7c77e02eb723a8bedb"
   }
  }
 },
 "nbformat": 4,
 "nbformat_minor": 2
}
